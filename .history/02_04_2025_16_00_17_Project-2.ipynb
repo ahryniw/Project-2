{
 "cells": [
  {
   "cell_type": "code",
   "execution_count": null,
   "id": "071d4221-4b97-4187-bd89-09d481b18d20",
   "metadata": {},
   "outputs": [],
   "source": [
    "Hello - Issac"
   ]
  }
 ],
 "metadata": {
  "kernelspec": {
   "display_name": "R",
   "language": "R",
   "name": "ir"
  },
  "language_info": {
   "codemirror_mode": "r",
   "file_extension": ".r",
   "mimetype": "text/x-r-source",
   "name": "R",
   "pygments_lexer": "r",
   "version": "4.3.3"
  }
 },
 "nbformat": 4,
 "nbformat_minor": 5
}
