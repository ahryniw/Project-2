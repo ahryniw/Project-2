{
 "cells": [
  {
   "cell_type": "markdown",
   "id": "4f620eae-0d4c-4951-91ed-d293a5c0b77a",
   "metadata": {},
   "source": [
    "Hello - Issac"
   ]
  },
  {
   "cell_type": "markdown",
   "id": "5a9b05ff-1ad4-415c-9ab6-39c24dfaa0d6",
   "metadata": {},
   "source": [
    "Hi- Dana"
   ]
  },
  {
   "cell_type": "code",
   "execution_count": null,
   "id": "d1085832-d92c-4fd2-a355-273fb1854eac",
   "metadata": {},
   "outputs": [],
   "source": []
  }
 ],
 "metadata": {
  "kernelspec": {
   "display_name": "R",
   "language": "R",
   "name": "ir"
  },
  "language_info": {
   "codemirror_mode": "r",
   "file_extension": ".r",
   "mimetype": "text/x-r-source",
   "name": "R",
   "pygments_lexer": "r",
   "version": "4.3.3"
  }
 },
 "nbformat": 4,
 "nbformat_minor": 5
}
