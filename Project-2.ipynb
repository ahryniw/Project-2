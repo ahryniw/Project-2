{
 "cells": [
  {
   "cell_type": "markdown",
   "id": "d508619c-f4f5-49b1-8634-f4c44b57050f",
   "metadata": {},
   "source": [
    "Introduction:"
   ]
  },
  {
   "cell_type": "code",
   "execution_count": null,
   "id": "a230d7c3-8306-4456-85a2-bc0017693530",
   "metadata": {},
   "outputs": [],
   "source": []
  }
 ],
 "metadata": {
  "kernelspec": {
   "display_name": "R",
   "language": "R",
   "name": "ir"
  },
  "language_info": {
   "codemirror_mode": "r",
   "file_extension": ".r",
   "mimetype": "text/x-r-source",
   "name": "R",
   "pygments_lexer": "r",
   "version": "4.3.3"
  }
 },
 "nbformat": 4,
 "nbformat_minor": 5
}
