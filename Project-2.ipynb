{
 "cells": [
  {
   "cell_type": "markdown",
   "id": "d1b14685-312d-4b21-9e60-02a8a72851e5",
   "metadata": {},
   "source": [
    "Introduction"
   ]
  },
  {
   "cell_type": "code",
   "execution_count": null,
   "id": "8ce9c1b3-80c6-4135-bf7b-08f6aee09525",
   "metadata": {},
   "outputs": [],
   "source": [
    "Hello 2nd attempt - Issac Li\n"
   ]
  },
  {
   "cell_type": "code",
   "execution_count": null,
   "id": "c112f6a0-4335-480f-a497-e040a77135b4",
   "metadata": {},
   "outputs": [],
   "source": [
    "Abstract"
   ]
  }
 ],
 "metadata": {
  "kernelspec": {
   "display_name": "R",
   "language": "R",
   "name": "ir"
  },
  "language_info": {
   "codemirror_mode": "r",
   "file_extension": ".r",
   "mimetype": "text/x-r-source",
   "name": "R",
   "pygments_lexer": "r",
   "version": "4.3.3"
  }
 },
 "nbformat": 4,
 "nbformat_minor": 5
}
