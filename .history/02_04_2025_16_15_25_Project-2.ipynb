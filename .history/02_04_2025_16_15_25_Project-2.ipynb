{
 "cells": [
  {
   "cell_type": "code",
   "execution_count": null,
   "id": "071d4221-4b97-4187-bd89-09d481b18d20",
   "metadata": {},
   "outputs": [],
   "source": [
    "\n",
    "library(tidyverse)"
   ]
  },
  {
   "cell_type": "code",
   "execution_count": null,
   "id": "e10d749c-14bd-4dcd-956d-9fcef5def5d9",
   "metadata": {},
   "outputs": [],
   "source": [
    "players<-read_csv(\"/Project-2/players.csv\")"
   ]
  },
  {
   "cell_type": "code",
   "execution_count": null,
   "id": "067e5a59-7c09-461d-8bca-d60bc391e7c4",
   "metadata": {},
   "outputs": [],
   "source": []
  }
 ],
 "metadata": {
  "kernelspec": {
   "display_name": "R",
   "language": "R",
   "name": "ir"
  },
  "language_info": {
   "codemirror_mode": "r",
   "file_extension": ".r",
   "mimetype": "text/x-r-source",
   "name": "R",
   "pygments_lexer": "r",
   "version": "4.3.3"
  }
 },
 "nbformat": 4,
 "nbformat_minor": 5
}
