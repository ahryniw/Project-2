{
 "cells": [
  {
   "cell_type": "markdown",
   "id": "d1b14685-312d-4b21-9e60-02a8a72851e5",
   "metadata": {},
   "source": [
    "Introduction"
   ]
  },
  {
   "cell_type": "markdown",
   "id": "4e60d7de-b474-44c0-b429-35d309d6b96f",
   "metadata": {},
   "source": [
    "Hello World --Bill"
   ]
  },
  {
   "cell_type": "code",
   "execution_count": null,
   "id": "8ce9c1b3-80c6-4135-bf7b-08f6aee09525",
   "metadata": {},
   "outputs": [],
   "source": []
  }
 ],
 "metadata": {
  "kernelspec": {
   "display_name": "R",
   "language": "R",
   "name": "ir"
  },
  "language_info": {
   "codemirror_mode": "r",
   "file_extension": ".r",
   "mimetype": "text/x-r-source",
   "name": "R",
   "pygments_lexer": "r",
   "version": "4.3.3"
  }
 },
 "nbformat": 4,
 "nbformat_minor": 5
}
